import yfinance as yf
import numpy as np
import pandas as pd
from sklearn.linear_model import LinearRegression

# Define the stock symbol and time period
stock_symbol = 'AAPL'
start_date = '2022-01-01'
end_date = '2022-12-31'

# Retrieve historical stock data from Yahoo Finance
stock_data = yf.download(stock_symbol, start=start_date, end=end_date)

# Extract adjusted closing prices
prices = stock_data['Adj Close']

# Calculate daily returns
returns = prices.pct_change().dropna()

# Split the returns into X (independent variable) and y (dependent variable)
X = returns['^GSPC'].values.reshape(-1, 1)  # S&P 500 returns as the benchmark
y = returns[stock_symbol].values.reshape(-1, 1)

# Fit linear regression model
regression_model = LinearRegression()
regression_model.fit(X, y)

# Calculate alpha (intercept) and beta (slope)
alpha = regression_model.intercept_[0]
beta = regression_model.coef_[0][0]

print('Alpha (Intercept):', alpha)
print('Beta (Slope):', beta)
