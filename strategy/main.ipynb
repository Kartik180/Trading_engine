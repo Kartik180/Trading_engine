{
 "cells": [
  {
   "cell_type": "code",
   "execution_count": 1,
   "metadata": {},
   "outputs": [
    {
     "name": "stderr",
     "output_type": "stream",
     "text": [
      "c:\\Users\\karti\\AppData\\Local\\Programs\\Python\\Python311\\Lib\\site-packages\\requests\\__init__.py:109: RequestsDependencyWarning: urllib3 (1.26.15) or chardet (5.1.0)/charset_normalizer (2.0.12) doesn't match a supported version!\n",
      "  warnings.warn(\n"
     ]
    }
   ],
   "source": [
    "import numpy as np\n",
    "import pandas as pd\n",
    "import yfinance as yf"
   ]
  },
  {
   "cell_type": "code",
   "execution_count": 2,
   "metadata": {},
   "outputs": [
    {
     "name": "stdout",
     "output_type": "stream",
     "text": [
      "[*********************100%***********************]  1 of 1 completed\n"
     ]
    }
   ],
   "source": [
    "# Define the ticker symbol and the timeframe\n",
    "ticker_symbol = \"LINKPH.BO\"  # Replace with the desired stock symbol\n",
    "start_date = \"2023-01-01\"  # Replace with the desired start date\n",
    "end_date = \"2023-07-15\"  # Replace with the desired end date\n",
    "\n",
    "# Fetch the historical data from Yahoo Finance\n",
    "data = yf.download(ticker_symbol, start=start_date, end=end_date)\n",
    "data.fillna(method=\"bfill\", inplace=True)"
   ]
  },
  {
   "cell_type": "code",
   "execution_count": 3,
   "metadata": {},
   "outputs": [
    {
     "name": "stdout",
     "output_type": "stream",
     "text": [
      "Next Day 1 Prediction: 44.412757879081774\n",
      "Next Day 2 Prediction: 43.18444897487137\n",
      "Fibonacci Retracement Levels: [65.34996014404297, 59.3800202331543, 54.55500030517578, 49.729980377197265, 42.860460479736325]\n"
     ]
    }
   ],
   "source": [
    "period = 20\n",
    "data['EMA'] = data['Close'].ewm(span=period, adjust=False).mean()\n",
    "\n",
    "# Calculate Bollinger Bands\n",
    "data['std'] = data['Close'].rolling(window=period).std()\n",
    "data['middle_band'] = data['Close'].rolling(window=period).mean()\n",
    "data['upper_band'] = data['middle_band'] + (2 * data['std'])\n",
    "data['lower_band'] = data['middle_band'] - (2 * data['std'])\n",
    "\n",
    "# Calculate Fibonacci retracement levels\n",
    "high = data['High'].max()\n",
    "low = data['Low'].min()\n",
    "fib_levels = [0.236, 0.382, 0.5, 0.618, 0.786]\n",
    "fibonacci_retracement = []\n",
    "\n",
    "for level in fib_levels:\n",
    "    value = high - (level * (high - low))\n",
    "    fibonacci_retracement.append(value)\n",
    "\n",
    "# Predict the next two days using the calculated indicators\n",
    "last_close = data['Close'].iloc[-1]\n",
    "next_day_1 = pd.concat([data['Close'], pd.Series(last_close)]).ewm(span=period, adjust=False).mean().iloc[-1]\n",
    "next_day_2 = pd.concat([data['Close'], pd.Series(next_day_1)]).ewm(span=period, adjust=False).mean().iloc[-1]\n",
    "\n",
    "# Display the results\n",
    "print(\"Next Day 1 Prediction:\", next_day_1)\n",
    "print(\"Next Day 2 Prediction:\", next_day_2)\n",
    "print(\"Fibonacci Retracement Levels:\", fibonacci_retracement)"
   ]
  },
  {
   "cell_type": "code",
   "execution_count": 4,
   "metadata": {},
   "outputs": [
    {
     "name": "stdout",
     "output_type": "stream",
     "text": [
      "                 Open       High        Low      Close  Adj Close  Volume   \n",
      "Date                                                                        \n",
      "2023-07-10  42.000000  43.500000  40.419998  41.080002  41.080002    1513  \\\n",
      "2023-07-11  41.000000  42.000000  40.200001  41.259998  41.259998    2860   \n",
      "2023-07-12  42.000000  42.500000  41.299999  41.380001  41.380001    2766   \n",
      "2023-07-13  42.889999  49.650002  41.320000  47.860001  47.860001   98448   \n",
      "2023-07-14  47.490002  57.430000  44.049999  57.310001  57.310001  255733   \n",
      "\n",
      "                  EMA       std  middle_band  upper_band  lower_band  \n",
      "Date                                                                  \n",
      "2023-07-10  40.795170  1.830461      40.5625   44.223422   36.901579  \n",
      "2023-07-11  40.839439  1.731979      40.7260   44.189958   37.262043  \n",
      "2023-07-12  40.890921  1.603141      40.9000   44.106283   37.693718  \n",
      "2023-07-13  41.554643  2.044130      41.4240   45.512260   37.335740  \n",
      "2023-07-14  43.055153  4.014464      42.3600   50.388927   34.331073  \n"
     ]
    }
   ],
   "source": [
    "print(data.tail())"
   ]
  }
 ],
 "metadata": {
  "kernelspec": {
   "display_name": "Python 3",
   "language": "python",
   "name": "python3"
  },
  "language_info": {
   "codemirror_mode": {
    "name": "ipython",
    "version": 3
   },
   "file_extension": ".py",
   "mimetype": "text/x-python",
   "name": "python",
   "nbconvert_exporter": "python",
   "pygments_lexer": "ipython3",
   "version": "3.11.1"
  },
  "orig_nbformat": 4
 },
 "nbformat": 4,
 "nbformat_minor": 2
}
