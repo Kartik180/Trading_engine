{
 "cells": [
  {
   "cell_type": "code",
   "execution_count": 6,
   "metadata": {},
   "outputs": [
    {
     "name": "stdout",
     "output_type": "stream",
     "text": [
      "[*********************100%***********************]  1 of 1 completed\n",
      "[*********************100%***********************]  1 of 1 completed\n",
      "Alpha (Intercept): -0.0012436950066398796\n",
      "Beta (Slope): 0.05860343486132738\n"
     ]
    }
   ],
   "source": [
    "import yfinance as yf\n",
    "import numpy as np\n",
    "import pandas as pd\n",
    "from sklearn.linear_model import LinearRegression\n",
    "\n",
    "# Define the stock symbol and time period\n",
    "stock_symbol = 'AAPL'\n",
    "index_symbol = 'PNB.NS'  # S&P 500 symbol\n",
    "start_date = '2022-01-01'\n",
    "end_date = '2022-12-31'\n",
    "\n",
    "# Retrieve historical stock and index data from Yahoo Finance\n",
    "stock_data = yf.download(stock_symbol, start=start_date, end=end_date)\n",
    "index_data = yf.download(index_symbol, start=start_date, end=end_date)\n",
    "\n",
    "# Extract adjusted closing prices\n",
    "stock_prices = stock_data['Adj Close']\n",
    "index_prices = index_data['Adj Close']\n",
    "\n",
    "# Combine stock and index data\n",
    "data = pd.concat([stock_prices, index_prices], axis=1, keys=['Stock', 'SP500'])\n",
    "data = data.dropna()\n",
    "\n",
    "# Calculate daily returns\n",
    "returns = data.pct_change().dropna()\n",
    "\n",
    "# Split the returns into X (independent variable) and y (dependent variable)\n",
    "X = returns['SP500'].values.reshape(-1, 1)\n",
    "y = returns['Stock'].values.reshape(-1, 1)\n",
    "\n",
    "# Fit linear regression model\n",
    "regression_model = LinearRegression()\n",
    "regression_model.fit(X, y)\n",
    "\n",
    "# Calculate alpha (intercept) and beta (slope)\n",
    "alpha = regression_model.intercept_[0]\n",
    "beta = regression_model.coef_[0][0]\n",
    "\n",
    "print('Alpha (Intercept):', alpha)\n",
    "print('Beta (Slope):', beta)\n",
    "\n"
   ]
  }
 ],
 "metadata": {
  "kernelspec": {
   "display_name": "Python 3",
   "language": "python",
   "name": "python3"
  },
  "language_info": {
   "codemirror_mode": {
    "name": "ipython",
    "version": 3
   },
   "file_extension": ".py",
   "mimetype": "text/x-python",
   "name": "python",
   "nbconvert_exporter": "python",
   "pygments_lexer": "ipython3",
   "version": "3.11.1"
  },
  "orig_nbformat": 4
 },
 "nbformat": 4,
 "nbformat_minor": 2
}
